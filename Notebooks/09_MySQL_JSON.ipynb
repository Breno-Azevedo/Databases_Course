{
 "cells": [
  {
   "cell_type": "markdown",
   "metadata": {},
   "source": [
    "## Introduction to Databases\n",
    "\n",
    "### Using JSON fields in MySQL\n",
    "\n",
    "Sources: [here](https://www.sitepoint.com/use-json-data-fields-mysql-databases/) and [here](https://dev.mysql.com/doc/refman/5.7/en/json-search-functions.html)"
   ]
  },
  {
   "cell_type": "markdown",
   "metadata": {},
   "source": [
    "The line between SQL and NoSQL databases has become increasingly blurred, with each camp adopting features from the other. MySQL 5.7+ InnoDB databases and PostgreSQL 9.2+ both directly support JSON document types in a single field. In this article, we’ll examine the MySQL 8.0 JSON implementation in more detail.\n",
    "\n",
    "Just Because You Can Store JSON it doesn’t follow you should. But there are some use cases, especially those tackled by NoSQL databases\n",
    "\n",
    "Normalization is a technique used to optimize the database structure. The First Normal Form (1NF) rule governs that every column should hold a single value — which is clearly broken by storing multi-value JSON documents."
   ]
  },
  {
   "cell_type": "code",
   "execution_count": null,
   "metadata": {},
   "outputs": [],
   "source": []
  },
  {
   "cell_type": "markdown",
   "metadata": {},
   "source": [
    "#### Create a Table With a JSON Field\n",
    "\n",
    "Consider a shop selling books. All books have an ID, ISBN, title, publisher, number of pages and other clear relational data. Presume you want to add any number of category tags to each book. You could achieve this in SQL using:  \n",
    "\n",
    "+ a tag table which stored each tag name with a unique ID, and\n",
    "+ a tagmap table with many-to-many records mapping book IDs to tag IDs\n",
    "\n",
    "It’ll work, but it’s cumbersome and considerable effort for a minor feature. Therefore, you can define a tags JSON field in your MySQL database’s book table:"
   ]
  },
  {
   "cell_type": "code",
   "execution_count": null,
   "metadata": {},
   "outputs": [],
   "source": [
    "CREATE TABLE `book` (\n",
    "  `id` MEDIUMINT(8) UNSIGNED NOT NULL AUTO_INCREMENT,\n",
    "  `title` VARCHAR(200) NOT NULL,\n",
    "  `tags` JSON DEFAULT NULL,\n",
    "  PRIMARY KEY (`id`)\n",
    ") ENGINE=INNODB;\n"
   ]
  },
  {
   "cell_type": "markdown",
   "metadata": {},
   "source": [
    "Note that JSON columns can’t have a default value, be used as a primary key, be used as a foreign key, or have an index. You can create secondary indexes on generated virtual columns, but it’s easier and more practical to retain a value in a separate field if indexes are required.\n",
    "\n",
    "### Adding JSON Data\n",
    "\n",
    "Whole JSON documents can be passed in INSERT or UPDATE statements. For example, our book tags can be passed as an array (inside a string):"
   ]
  },
  {
   "cell_type": "code",
   "execution_count": null,
   "metadata": {},
   "outputs": [],
   "source": [
    "INSERT INTO `book` (`title`, `tags`)\n",
    "VALUES (\n",
    "  'ECMAScript 2015: A SitePoint Anthology',\n",
    "  '[\"JavaScript\", \"ES2015\", \"JSON\"]'\n",
    ");"
   ]
  },
  {
   "cell_type": "markdown",
   "metadata": {},
   "source": [
    "JSON can also be created with these:\n",
    "\n",
    "+ JSON_ARRAY() function, which creates arrays. \n",
    "+ JSON_OBJECT() function, which creates objects.\n",
    "+ JSON_QUOTE() function, which quotes a string as a JSON value.\n",
    "+ or you can (CAST anyValue AS JSON).  \n",
    "\n",
    "For example:"
   ]
  },
  {
   "cell_type": "code",
   "execution_count": null,
   "metadata": {},
   "outputs": [],
   "source": [
    "-- returns [1, 2, \"abc\"]:\n",
    "SELECT JSON_ARRAY(1, 2, 'abc');"
   ]
  },
  {
   "cell_type": "code",
   "execution_count": null,
   "metadata": {},
   "outputs": [],
   "source": [
    "-- returns {\"a\": 1, \"b\": 2}:\n",
    "SELECT JSON_OBJECT('a', 1, 'b', 2);"
   ]
  },
  {
   "cell_type": "code",
   "execution_count": null,
   "metadata": {},
   "outputs": [],
   "source": [
    "-- returns \"[1, 2, \\\"abc\\\"]\":\n",
    "SELECT JSON_QUOTE('[1, 2, \"abc\"]');"
   ]
  },
  {
   "cell_type": "markdown",
   "metadata": {},
   "source": [
    "The JSON_TYPE() function allows you to check JSON value types. It should return OBJECT, ARRAY, a scalar type (INTEGER, BOOLEAN, etc), NULL, or an error. For example:"
   ]
  },
  {
   "cell_type": "code",
   "execution_count": null,
   "metadata": {},
   "outputs": [],
   "source": [
    "-- returns ARRAY:\n",
    "SELECT JSON_TYPE('[1, 2, \"abc\"]');\n",
    "\n",
    "-- returns OBJECT:\n",
    "SELECT JSON_TYPE('{\"a\": 1, \"b\": 2}');\n",
    "\n",
    "-- returns an error:\n",
    "SELECT JSON_TYPE('{\"a\": 1, \"b\": 2');"
   ]
  },
  {
   "cell_type": "markdown",
   "metadata": {},
   "source": [
    "The JSON_VALID() function returns 1 if the JSON is valid or 0 otherwise:"
   ]
  },
  {
   "cell_type": "code",
   "execution_count": null,
   "metadata": {},
   "outputs": [],
   "source": [
    "-- returns 1:\n",
    "SELECT JSON_TYPE('[1, 2, \"abc\"]');\n",
    "\n",
    "-- returns 1:\n",
    "SELECT JSON_TYPE('{\"a\": 1, \"b\": 2}');\n",
    "\n",
    "-- returns 0:\n",
    "SELECT JSON_TYPE('{\"a\": 1, \"b\": 2');"
   ]
  },
  {
   "cell_type": "markdown",
   "metadata": {},
   "source": [
    "Attempting to insert an invalid JSON document will raise an error and the whole record will not be inserted/updated.  \n",
    "\n",
    "### Searching JSON Data\n",
    "\n",
    "The JSON_CONTAINS() function accepts the JSON document being searched and another to compare against. It returns 1 when a match is found. For example:"
   ]
  },
  {
   "cell_type": "code",
   "execution_count": null,
   "metadata": {},
   "outputs": [],
   "source": [
    "-- all books with the 'JavaScript' tag:\n",
    "SELECT * FROM `book` WHERE JSON_CONTAINS(tags, '[\"JavaScript\"]');"
   ]
  },
  {
   "cell_type": "markdown",
   "metadata": {},
   "source": [
    "The similar JSON_SEARCH() function returns the path to the given match or NULL when there’s no match. It’s passed the JSON document being searched, 'one' to find the first match, or 'all' to find all matches, and a search string (where % matches any number of characters and _ matches one character in an identical way to LIKE). For example:"
   ]
  },
  {
   "cell_type": "code",
   "execution_count": null,
   "metadata": {},
   "outputs": [],
   "source": [
    "-- all books with tags starting 'Java':\n",
    "SELECT * FROM `book` WHERE JSON_SEARCH(tags, 'one', 'Java%') IS NOT NULL;"
   ]
  },
  {
   "cell_type": "markdown",
   "metadata": {},
   "source": [
    "### JSON Paths\n",
    "\n",
    "A JSON path targets values and can be used to extract or modify parts of a JSON document. The JSON_EXTRACT() function demonstrates this by extracting one or more values:"
   ]
  },
  {
   "cell_type": "code",
   "execution_count": null,
   "metadata": {},
   "outputs": [],
   "source": [
    "-- returns \"SitePoint\":\n",
    "SELECT JSON_EXTRACT('{\"id\": 1, \"website\": \"SitePoint\"}', '$.website');"
   ]
  },
  {
   "cell_type": "markdown",
   "metadata": {},
   "source": [
    "All path definitions start with a $ followed by other selectors:\n",
    "\n",
    "+ a period followed by a name, such as $.website\n",
    "+ [N] where N is the position in a zero-indexed array\n",
    "+ the .[*] wildcard evaluates all members of an object\n",
    "+ the [*] wildcard evaluates all members of an array\n",
    "+ the prefix**suffix wildcard evaluates to all paths that begin with the named prefix and end with the named suffix\n",
    "\n",
    "The following examples refer to the following JSON document:"
   ]
  },
  {
   "cell_type": "code",
   "execution_count": null,
   "metadata": {},
   "outputs": [],
   "source": [
    "{\n",
    "  \"a\": 1,\n",
    "  \"b\": 2,\n",
    "  \"c\": [3, 4],\n",
    "  \"d\": {\n",
    "    \"e\": 5,\n",
    "    \"f\": 6\n",
    "  }\n",
    "}"
   ]
  },
  {
   "cell_type": "markdown",
   "metadata": {},
   "source": [
    "Example paths:\n",
    "```\n",
    "> $.a returns 1  \n",
    "> $.c returns [3, 4]  \n",
    "> $.c[1] returns 4  \n",
    "> $.d.e returns 5  \n",
    "> $**.e returns [5]  \n",
    "```"
   ]
  },
  {
   "cell_type": "markdown",
   "metadata": {},
   "source": [
    "### Extracting JSON Paths in Queries\n",
    "\n",
    "You could extract the name and first tag of your book table using the query:"
   ]
  },
  {
   "cell_type": "code",
   "execution_count": null,
   "metadata": {},
   "outputs": [],
   "source": [
    "SELECT\n",
    "  title, tags->\"$[0]\" AS `tag1`\n",
    "FROM `book`;\n"
   ]
  },
  {
   "cell_type": "markdown",
   "metadata": {},
   "source": [
    "For a more complex example, presume you have a user table with JSON profile data. For example:\n",
    "    \n",
    "id \tname \tprofile\n",
    "1 \tCraig \t{ “email”: [“craig@email1.com”, “craig@email2.com”], “twitter”: “@craigbuckler” }\n",
    "2 \tSitePoint \t{ “email”: [], “twitter”: “@sitepointdotcom” }\n",
    "\n",
    "You can extract the Twitter name using a JSON path. For example:"
   ]
  },
  {
   "cell_type": "code",
   "execution_count": null,
   "metadata": {},
   "outputs": [],
   "source": [
    "SELECT\n",
    "  name, profile->\"$.twitter\" AS `twitter`\n",
    "FROM `user`;"
   ]
  },
  {
   "cell_type": "markdown",
   "metadata": {},
   "source": [
    "You could use a JSON path in the WHERE clause to only return users with a Twitter account:"
   ]
  },
  {
   "cell_type": "code",
   "execution_count": null,
   "metadata": {},
   "outputs": [],
   "source": [
    "SELECT\n",
    "  name, profile->\"$.twitter\" AS `twitter`\n",
    "FROM `user`\n",
    "WHERE\n",
    "  profile->\"$.twitter\" IS NOT NULL;\n"
   ]
  },
  {
   "cell_type": "markdown",
   "metadata": {},
   "source": [
    "### Modifying Part of a JSON Document\n",
    "\n",
    "There are several MySQL functions to modify parts of a JSON document using path notation. These include:\n",
    "\n",
    "+ JSON_SET(doc, path, val[, path, val]...): inserts or updates data in the document\n",
    "+ JSON_INSERT(doc, path, val[, path, val]...): inserts data into the document\n",
    "+ JSON_REPLACE(doc, path, val[, path, val]...): replaces data in the document\n",
    "+ JSON_MERGE(doc, doc[, doc]...): merges two or more document\n",
    "+ JSON_ARRAY_APPEND(doc, path, val[, path, val]...): appends values to the end of an array\n",
    "+ JSON_ARRAY_INSERT(doc, path, val[, path, val]...): inserts an array within the document\n",
    "+ JSON_REMOVE(doc, path[, path]...): removes data from the document\n",
    "\n",
    "You can therefore add a “technical” tag to any book which already has a “JavaScript” tag:"
   ]
  },
  {
   "cell_type": "code",
   "execution_count": null,
   "metadata": {},
   "outputs": [],
   "source": [
    "UPDATE `book`\n",
    "  SET tags = JSON_MERGE(tags, '[\"technical\"]')\n",
    "WHERE\n",
    "  JSON_SEARCH(tags, 'one', 'JavaScript') IS NOT NULL;\n"
   ]
  },
  {
   "cell_type": "markdown",
   "metadata": {},
   "source": [
    "The MySQL manual provides further information about the [JSON data type](https://dev.mysql.com/doc/refman/en/json.html) and the associated [JSON functions](https://dev.mysql.com/doc/refman//en/json-functions.html).\n",
    "\n",
    "Again, I urge you not to use JSON unless it’s absolutely necessary. You could emulate an entire document-oriented NoSQL database in MySQL, but it would negate many benefits of SQL, and you may as well switch to a real NoSQL system! That said, JSON data types might save effort for more obscure data requirements within an SQL application."
   ]
  },
  {
   "cell_type": "code",
   "execution_count": null,
   "metadata": {},
   "outputs": [],
   "source": []
  }
 ],
 "metadata": {
  "kernelspec": {
   "display_name": "Python 3",
   "language": "python",
   "name": "python3"
  },
  "language_info": {
   "codemirror_mode": {
    "name": "ipython",
    "version": 3
   },
   "file_extension": ".py",
   "mimetype": "text/x-python",
   "name": "python",
   "nbconvert_exporter": "python",
   "pygments_lexer": "ipython3",
   "version": "3.7.6"
  }
 },
 "nbformat": 4,
 "nbformat_minor": 4
}
