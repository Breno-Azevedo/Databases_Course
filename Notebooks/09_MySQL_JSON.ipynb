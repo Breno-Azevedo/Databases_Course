{
 "cells": [
  {
   "cell_type": "markdown",
   "metadata": {},
   "source": [
    "## Introduction to Databases\n",
    "\n",
    "### Using JSON fields in MySQL\n",
    "\n",
    "Sources: [here](https://www.sitepoint.com/use-json-data-fields-mysql-databases/) and [here](https://dev.mysql.com/doc/refman/5.7/en/json-search-functions.html)"
   ]
  },
  {
   "cell_type": "markdown",
   "metadata": {},
   "source": [
    "The line between SQL and NoSQL databases has become increasingly blurred, with each camp adopting features from the other. MySQL 5.7+ InnoDB databases and PostgreSQL 9.2+ both directly support JSON document types in a single field. In this article, we’ll examine the MySQL 8.0 JSON implementation in more detail.\n",
    "\n",
    "Just Because You Can Store JSON it doesn’t follow you should. But there are some use cases, especially those tackled by NoSQL databases\n",
    "\n",
    "Normalization is a technique used to optimize the database structure. The First Normal Form (1NF) rule governs that every column should hold a single value — which is clearly broken by storing multi-value JSON documents."
   ]
  },
  {
   "cell_type": "code",
   "execution_count": null,
   "metadata": {},
   "outputs": [],
   "source": []
  },
  {
   "cell_type": "markdown",
   "metadata": {},
   "source": [
    "#### Create a Table With a JSON Field\n",
    "\n",
    "Consider a shop selling books. All books have an ID, ISBN, title, publisher, number of pages and other clear relational data. Presume you want to add any number of category tags to each book. You could achieve this in SQL using:  \n",
    "\n",
    "+ a tag table which stored each tag name with a unique ID, and\n",
    "+ a tagmap table with many-to-many records mapping book IDs to tag IDs\n",
    "\n",
    "It’ll work, but it’s cumbersome and considerable effort for a minor feature. Therefore, you can define a tags JSON field in your MySQL database’s book table:"
   ]
  },
  {
   "cell_type": "code",
   "execution_count": null,
   "metadata": {},
   "outputs": [],
   "source": [
    "CREATE TABLE `book` (\n",
    "  `id` MEDIUMINT(8) UNSIGNED NOT NULL AUTO_INCREMENT,\n",
    "  `title` VARCHAR(200) NOT NULL,\n",
    "  `tags` JSON DEFAULT NULL,\n",
    "  PRIMARY KEY (`id`)\n",
    ") ENGINE=INNODB;\n"
   ]
  },
  {
   "cell_type": "markdown",
   "metadata": {},
   "source": [
    "Note that JSON columns can’t have a default value, be used as a primary key, be used as a foreign key, or have an index. You can create secondary indexes on generated virtual columns, but it’s easier and more practical to retain a value in a separate field if indexes are required.\n",
    "\n",
    "### Adding JSON Data\n",
    "\n",
    "Whole JSON documents can be passed in INSERT or UPDATE statements. For example, our book tags can be passed as an array (inside a string):"
   ]
  },
  {
   "cell_type": "code",
   "execution_count": null,
   "metadata": {},
   "outputs": [],
   "source": [
    "INSERT INTO `book` (`title`, `tags`)\n",
    "VALUES (\n",
    "  'ECMAScript 2015: A SitePoint Anthology',\n",
    "  '[\"JavaScript\", \"ES2015\", \"JSON\"]'\n",
    ");"
   ]
  },
  {
   "cell_type": "markdown",
   "metadata": {},
   "source": [
    "JSON can also be created with these:\n",
    "\n",
    "+ JSON_ARRAY() function, which creates arrays. \n",
    "+ JSON_OBJECT() function, which creates objects.\n",
    "+ JSON_QUOTE() function, which quotes a string as a JSON value.\n",
    "\n",
    "\n",
    "For example:"
   ]
  },
  {
   "cell_type": "code",
   "execution_count": null,
   "metadata": {},
   "outputs": [],
   "source": [
    "-- returns [1, 2, \"abc\"]:\n",
    "SELECT JSON_ARRAY(1, 2, 'abc');"
   ]
  },
  {
   "cell_type": "code",
   "execution_count": null,
   "metadata": {},
   "outputs": [],
   "source": [
    "-- returns {\"a\": 1, \"b\": 2}:\n",
    "SELECT JSON_OBJECT('a', 1, 'b', 2);"
   ]
  },
  {
   "cell_type": "code",
   "execution_count": null,
   "metadata": {},
   "outputs": [],
   "source": []
  },
  {
   "cell_type": "code",
   "execution_count": null,
   "metadata": {},
   "outputs": [],
   "source": []
  }
 ],
 "metadata": {
  "kernelspec": {
   "display_name": "Python 3",
   "language": "python",
   "name": "python3"
  },
  "language_info": {
   "codemirror_mode": {
    "name": "ipython",
    "version": 3
   },
   "file_extension": ".py",
   "mimetype": "text/x-python",
   "name": "python",
   "nbconvert_exporter": "python",
   "pygments_lexer": "ipython3",
   "version": "3.7.6"
  }
 },
 "nbformat": 4,
 "nbformat_minor": 4
}
