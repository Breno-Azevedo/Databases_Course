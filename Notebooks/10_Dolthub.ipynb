{
 "cells": [
  {
   "cell_type": "markdown",
   "metadata": {},
   "source": [
    "## Introduction to Databases\n",
    "\n",
    "### Using [DoltHub](https://www.dolthub.com/)\n",
    "\n",
    "[Tutorial](https://www.dolthub.com/docs/tutorials/dolthub/)"
   ]
  },
  {
   "cell_type": "markdown",
   "metadata": {},
   "source": [
    "!sudo pip install doltpy"
   ]
  },
  {
   "cell_type": "code",
   "execution_count": 26,
   "metadata": {},
   "outputs": [],
   "source": [
    "import requests\n",
    "import json\n",
    "import pandas as pd\n",
    "from doltpy.core import Dolt\n",
    "from doltpy.core.read import read_table, pandas_read_sql"
   ]
  },
  {
   "cell_type": "markdown",
   "metadata": {},
   "source": [
    "### Using Dolthub via API with requests"
   ]
  },
  {
   "cell_type": "code",
   "execution_count": 21,
   "metadata": {},
   "outputs": [],
   "source": [
    "api_root = 'https://dolthub.com/api/v1alpha1/{}/{}'\n",
    "\n",
    "owner = 'dolthub'\n",
    "repo = 'corona-virus'\n",
    "branch = 'master'"
   ]
  },
  {
   "cell_type": "code",
   "execution_count": 25,
   "metadata": {},
   "outputs": [
    {
     "data": {
      "text/plain": [
       "{'query_execution_status': 'Success',\n",
       " 'query_execution_message': '',\n",
       " 'repository_owner': 'dolthub',\n",
       " 'repository_name': 'corona-virus',\n",
       " 'commit_ref': 'master',\n",
       " 'sql_query': 'SHOW TABLES;',\n",
       " 'schema': [{'columnName': 'Table',\n",
       "   'columnType': 'String',\n",
       "   'isPrimaryKey': False}],\n",
       " 'rows': [{'Table': 'case_details'},\n",
       "  {'Table': 'cases'},\n",
       "  {'Table': 'cases_by_age_range'},\n",
       "  {'Table': 'cases_by_age_sex'},\n",
       "  {'Table': 'cases_by_sex'},\n",
       "  {'Table': 'characteristics_age'},\n",
       "  {'Table': 'characteristics_case_severity'},\n",
       "  {'Table': 'characteristics_comorbid_condition'},\n",
       "  {'Table': 'characteristics_occupation'},\n",
       "  {'Table': 'characteristics_onset_date_range'},\n",
       "  {'Table': 'characteristics_province'},\n",
       "  {'Table': 'characteristics_sex'},\n",
       "  {'Table': 'characteristics_wuhan_exposed'},\n",
       "  {'Table': 'current'},\n",
       "  {'Table': 'current_cases'},\n",
       "  {'Table': 'current_deaths'},\n",
       "  {'Table': 'current_recovered'},\n",
       "  {'Table': 'deaths_by_age_range'},\n",
       "  {'Table': 'deaths_by_age_sex'},\n",
       "  {'Table': 'deaths_by_sex'},\n",
       "  {'Table': 'mortality_rate_by_age_range'},\n",
       "  {'Table': 'mortality_rate_by_age_sex'},\n",
       "  {'Table': 'mortality_rate_by_sex'},\n",
       "  {'Table': 'mortality_rates'},\n",
       "  {'Table': 'places'},\n",
       "  {'Table': 'time_series'}]}"
      ]
     },
     "execution_count": 25,
     "metadata": {},
     "output_type": "execute_result"
    }
   ],
   "source": [
    "res = requests.get(api_root.format(owner, repo))\n",
    "res.json()"
   ]
  },
  {
   "cell_type": "code",
   "execution_count": 45,
   "metadata": {},
   "outputs": [
    {
     "data": {
      "text/html": [
       "<div>\n",
       "<style scoped>\n",
       "    .dataframe tbody tr th:only-of-type {\n",
       "        vertical-align: middle;\n",
       "    }\n",
       "\n",
       "    .dataframe tbody tr th {\n",
       "        vertical-align: top;\n",
       "    }\n",
       "\n",
       "    .dataframe thead th {\n",
       "        text-align: right;\n",
       "    }\n",
       "</style>\n",
       "<table border=\"1\" class=\"dataframe\">\n",
       "  <thead>\n",
       "    <tr style=\"text-align: right;\">\n",
       "      <th></th>\n",
       "      <th>confirmed_count</th>\n",
       "      <th>death_count</th>\n",
       "      <th>country_region</th>\n",
       "    </tr>\n",
       "  </thead>\n",
       "  <tbody>\n",
       "    <tr>\n",
       "      <th>0</th>\n",
       "      <td>0</td>\n",
       "      <td>0</td>\n",
       "      <td>Brazil</td>\n",
       "    </tr>\n",
       "    <tr>\n",
       "      <th>1</th>\n",
       "      <td>1</td>\n",
       "      <td>null</td>\n",
       "      <td>Brazil</td>\n",
       "    </tr>\n",
       "    <tr>\n",
       "      <th>2</th>\n",
       "      <td>2</td>\n",
       "      <td>null</td>\n",
       "      <td>Brazil</td>\n",
       "    </tr>\n",
       "    <tr>\n",
       "      <th>3</th>\n",
       "      <td>4</td>\n",
       "      <td>null</td>\n",
       "      <td>Brazil</td>\n",
       "    </tr>\n",
       "    <tr>\n",
       "      <th>4</th>\n",
       "      <td>13</td>\n",
       "      <td>null</td>\n",
       "      <td>Brazil</td>\n",
       "    </tr>\n",
       "    <tr>\n",
       "      <th>5</th>\n",
       "      <td>20</td>\n",
       "      <td>null</td>\n",
       "      <td>Brazil</td>\n",
       "    </tr>\n",
       "    <tr>\n",
       "      <th>6</th>\n",
       "      <td>25</td>\n",
       "      <td>null</td>\n",
       "      <td>Brazil</td>\n",
       "    </tr>\n",
       "    <tr>\n",
       "      <th>7</th>\n",
       "      <td>31</td>\n",
       "      <td>null</td>\n",
       "      <td>Brazil</td>\n",
       "    </tr>\n",
       "    <tr>\n",
       "      <th>8</th>\n",
       "      <td>38</td>\n",
       "      <td>null</td>\n",
       "      <td>Brazil</td>\n",
       "    </tr>\n",
       "    <tr>\n",
       "      <th>9</th>\n",
       "      <td>52</td>\n",
       "      <td>null</td>\n",
       "      <td>Brazil</td>\n",
       "    </tr>\n",
       "  </tbody>\n",
       "</table>\n",
       "</div>"
      ],
      "text/plain": [
       "  confirmed_count death_count country_region\n",
       "0               0           0         Brazil\n",
       "1               1        null         Brazil\n",
       "2               2        null         Brazil\n",
       "3               4        null         Brazil\n",
       "4              13        null         Brazil\n",
       "5              20        null         Brazil\n",
       "6              25        null         Brazil\n",
       "7              31        null         Brazil\n",
       "8              38        null         Brazil\n",
       "9              52        null         Brazil"
      ]
     },
     "execution_count": 45,
     "metadata": {},
     "output_type": "execute_result"
    }
   ],
   "source": [
    "query = '''\n",
    "SELECT cases.confirmed_count, cases.death_count, places.country_region  \n",
    "FROM cases\n",
    "INNER JOIN places\n",
    "ON places.place_id = cases.place_id\n",
    "WHERE places.place_id = 98\n",
    "LIMIT 100\n",
    "'''\n",
    "\n",
    "res = requests.get('https://www.dolthub.com/api/v1alpha1/{}/{}/{}'.format(owner, repo, branch), params={'q': query})\n",
    "\n",
    "#res.json()\n",
    "pd.DataFrame(res.json()['rows']).head(10)"
   ]
  },
  {
   "cell_type": "code",
   "execution_count": null,
   "metadata": {},
   "outputs": [],
   "source": []
  }
 ],
 "metadata": {
  "kernelspec": {
   "display_name": "Python 3",
   "language": "python",
   "name": "python3"
  },
  "language_info": {
   "codemirror_mode": {
    "name": "ipython",
    "version": 3
   },
   "file_extension": ".py",
   "mimetype": "text/x-python",
   "name": "python",
   "nbconvert_exporter": "python",
   "pygments_lexer": "ipython3",
   "version": "3.8.5"
  }
 },
 "nbformat": 4,
 "nbformat_minor": 4
}
