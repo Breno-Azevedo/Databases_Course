{
 "cells": [
  {
   "cell_type": "markdown",
   "metadata": {},
   "source": [
    "## Introduction to Databases\n",
    "\n",
    "### Using SPARQL\n",
    "\n",
    "Based on [this](https://rebeccabilbro.github.io/sparql-from-python/), [this](https://www.wikidata.org/wiki/Wikidata:SPARQL_tutorial) and [this](https://towardsdatascience.com/where-do-mayors-come-from-querying-wikidata-with-python-and-sparql-91f3c0af22e2) blog posts  "
   ]
  },
  {
   "cell_type": "code",
   "execution_count": 17,
   "metadata": {},
   "outputs": [],
   "source": [
    "import os\n",
    "import sys\n",
    "import time\n",
    "import datetime\n",
    "import numpy as np\n",
    "import pandas as pd\n",
    "\n",
    "from SPARQLWrapper import SPARQLWrapper, JSON"
   ]
  },
  {
   "cell_type": "markdown",
   "metadata": {},
   "source": [
    "SPARQL (“SPARQL Protocol And RDF Query Language”) is a W3C standard for querying RDF and can be used to express queries across diverse data sources, whether the data is stored natively as RDF or viewed as RDF via middleware.  \n",
    "\n",
    "RDF represents data in the format [Subject - Predicate - Object](https://en.wikipedia.org/wiki/Semantic_triple)\n",
    "\n",
    "SPARQL contains capabilities for querying required and optional graph patterns along with their conjunctions and disjunctions.  \n",
    "SPARQL also supports extensible value testing and constraining queries by source RDF graph.  \n",
    "The results of SPARQL queries can be results sets or RDF graphs.\n",
    "\n",
    "SPARQL allows us to express queries as three-part statements:\n",
    "\n",
    "\n",
    "> PREFIX ... // identifies & nicknames namespace URIs of desired variables  \n",
    "> SELECT ... // lists variables to be returned (start with a ?)  \n",
    "> WHERE  ... // contains restrictions on variables expressed as triples  "
   ]
  },
  {
   "cell_type": "markdown",
   "metadata": {},
   "source": [
    "SPARQL basics\n",
    "A simple SPARQL query looks like this: \n",
    "    \n",
    "> SELECT ?a ?b ?c  \n",
    "> WHERE  \n",
    "> {  \n",
    ">   x y ?a.  \n",
    ">   m n ?b.  \n",
    ">   ?b f ?c.  \n",
    "> }  \n",
    "\n",
    "The SELECT clause lists variables that you want returned (variables start with a question mark), and the WHERE clause contains restrictions on them, mostly in the form of triples. A triple can be read like a sentence (which is why it ends with a period), with a subject, a predicate, and an object:   \n",
    "\n",
    "> SELECT ?fruit  \n",
    "> WHERE  \n",
    "> {  \n",
    ">   ?fruit color yellow.  \n",
    ">   ?fruit taste sour.  \n",
    "> }  \n",
    "\n",
    "Given that color and taste are properties in some triples "
   ]
  },
  {
   "cell_type": "markdown",
   "metadata": {},
   "source": [
    "### First Example: Query DBPedia"
   ]
  },
  {
   "cell_type": "code",
   "execution_count": 3,
   "metadata": {},
   "outputs": [],
   "source": [
    "# Specify the DBPedia endpoint\n",
    "sparql = SPARQLWrapper(\"http://dbpedia.org/sparql\")"
   ]
  },
  {
   "cell_type": "code",
   "execution_count": 4,
   "metadata": {},
   "outputs": [],
   "source": [
    "# Query for the description of \"Capsaicin\", filtered by language\n",
    "\n",
    "sparql.setQuery(\n",
    "    \"\"\"\n",
    "    PREFIX rdfs: <http://www.w3.org/2000/01/rdf-schema#>\n",
    "    SELECT ?comment\n",
    "    WHERE { <http://dbpedia.org/resource/Capsaicin> rdfs:comment ?comment\n",
    "    FILTER (LANG(?comment)='en')\n",
    "    } \n",
    "    \"\"\"\n",
    ")"
   ]
  },
  {
   "cell_type": "code",
   "execution_count": 5,
   "metadata": {},
   "outputs": [],
   "source": [
    "# Convert results to JSON format\n",
    "sparql.setReturnFormat(JSON)\n",
    "result = sparql.query().convert()"
   ]
  },
  {
   "cell_type": "code",
   "execution_count": 8,
   "metadata": {},
   "outputs": [
    {
     "name": "stdout",
     "output_type": "stream",
     "text": [
      "dict_keys(['head', 'results'])\n"
     ]
    }
   ],
   "source": [
    "# The return data contains \"bindings\" (a list of dictionaries)\n",
    "print(result.keys())"
   ]
  },
  {
   "cell_type": "code",
   "execution_count": 10,
   "metadata": {},
   "outputs": [
    {
     "data": {
      "text/plain": [
       "{'head': {'link': [], 'vars': ['comment']},\n",
       " 'results': {'distinct': False,\n",
       "  'ordered': True,\n",
       "  'bindings': [{'comment': {'type': 'literal',\n",
       "     'xml:lang': 'en',\n",
       "     'value': 'Capsaicin (/kæpˈseɪ.ᵻsɪn/ (INN); 8-methyl-N-vanillyl-6-nonenamide) is an active component of chili peppers, which are plants belonging to the genus Capsicum. It is an irritant for mammals, including humans, and produces a sensation of burning in any tissue with which it comes into contact. Capsaicin and several related compounds are called capsaicinoids and are produced as secondary metabolites by chili peppers, probably as deterrents against certain mammals and fungi. Pure capsaicin is a volatile, hydrophobic, colorless, odorless, crystalline to waxy compound.'}}]}}"
      ]
     },
     "execution_count": 10,
     "metadata": {},
     "output_type": "execute_result"
    }
   ],
   "source": [
    "result"
   ]
  },
  {
   "cell_type": "code",
   "execution_count": 6,
   "metadata": {},
   "outputs": [
    {
     "name": "stdout",
     "output_type": "stream",
     "text": [
      "Capsaicin (/kæpˈseɪ.ᵻsɪn/ (INN); 8-methyl-N-vanillyl-6-nonenamide) is an active component of chili peppers, which are plants belonging to the genus Capsicum. It is an irritant for mammals, including humans, and produces a sensation of burning in any tissue with which it comes into contact. Capsaicin and several related compounds are called capsaicinoids and are produced as secondary metabolites by chili peppers, probably as deterrents against certain mammals and fungi. Pure capsaicin is a volatile, hydrophobic, colorless, odorless, crystalline to waxy compound.\n"
     ]
    }
   ],
   "source": [
    "for hit in result[\"results\"][\"bindings\"]:\n",
    "    # We want the \"value\" attribute of the \"comment\" field\n",
    "    print(hit[\"comment\"][\"value\"])"
   ]
  },
  {
   "cell_type": "markdown",
   "metadata": {},
   "source": [
    "### Second Example: [Querying Wikidata](https://www.wikidata.org/wiki/Wikidata:SPARQL_tutorial)"
   ]
  },
  {
   "cell_type": "markdown",
   "metadata": {},
   "source": [
    "We can also use the Wikidata Query Service (WDQS) endpoint to query Wikidata.  \n",
    "Wikidata is a knowledge database. It contains millions of statements, such as “the capital of Canada is Ottawa”, or “the Mona Lisa is painted in oil paint on poplar wood”, or “gold has a melting point of 1,064.18 degrees Celsius”.  \n",
    "\n",
    "Let’s say we want to continue our research into spicy things by searching for information about hot sauces in Wikidata. The first step is to find the unique identifier that Wikidata uses to reference “hot sauce”, which we can do by searching on Wikidata. It turns out to be “Q522171”, which is an “entity”, which corresponds to the “wd” prefix in Wikidata.  \n",
    "\n",
    "If we want to get back results for all of the kinds of hot sauces cataloged in Wikidata, we want to query for the results that have the direct property – or “wdt” in Wikidata prefix speak – “<subclasses of>”, which is encoded as “P279” in Wikidata.  \n",
    "\n",
    "NOTE: For simple WDQS triples, items should be prefixed with wd:, and properties with wdt:. We don’t need to explicitly alias any prefixes in this case because WDQS already knows many shortcut abbreviations commonly used externally (e.g. rdf, skos, owl, schema, etc.) as well as ones internal to Wikidata, such as:  \n",
    "    \n",
    "> PREFIX wd: <http://www.wikidata.org/entity/>  \n",
    "> PREFIX wds: <http://www.wikidata.org/entity/statement/>  \n",
    "> PREFIX wdv: <http://www.wikidata.org/value/>  \n",
    "> PREFIX wdt: <http://www.wikidata.org/prop/direct/>  \n",
    "> PREFIX wikibase: <http://wikiba.se/ontology#>  \n",
    "> PREFIX p: <http://www.wikidata.org/prop/>  \n",
    "> PREFIX ps: <http://www.wikidata.org/prop/statement/>  \n",
    "> PREFIX pq: <http://www.wikidata.org/prop/qualifier/>  \n",
    "> PREFIX rdfs: <http://www.w3.org/2000/01/rdf-schema#>  \n",
    "> PREFIX bd: <http://www.bigdata.com/rdf#>  "
   ]
  },
  {
   "cell_type": "code",
   "execution_count": 11,
   "metadata": {},
   "outputs": [],
   "source": [
    "sparql = SPARQLWrapper(\"https://query.wikidata.org/sparql\")\n",
    "\n",
    "# Below we SELECT both the hot sauce items & their labels\n",
    "# in the WHERE clause we specify that we want labels as well as items\n",
    "\n",
    "sparql.setQuery(\"\"\"\n",
    "SELECT ?item ?itemLabel\n",
    "WHERE {?item wdt:P279 wd:Q522171.\n",
    "SERVICE wikibase:label { bd:serviceParam wikibase:language \"[AUTO_LANGUAGE],en\". }\n",
    "}\n",
    "\"\"\")\n",
    "\n",
    "sparql.setReturnFormat(JSON)\n",
    "results = sparql.query().convert()"
   ]
  },
  {
   "cell_type": "code",
   "execution_count": 12,
   "metadata": {},
   "outputs": [
    {
     "data": {
      "text/plain": [
       "{'head': {'vars': ['item', 'itemLabel']},\n",
       " 'results': {'bindings': [{'item': {'type': 'uri',\n",
       "     'value': 'http://www.wikidata.org/entity/Q249114'},\n",
       "    'itemLabel': {'xml:lang': 'en', 'type': 'literal', 'value': 'salsa'}},\n",
       "   {'item': {'type': 'uri', 'value': 'http://www.wikidata.org/entity/Q335016'},\n",
       "    'itemLabel': {'xml:lang': 'en',\n",
       "     'type': 'literal',\n",
       "     'value': 'Tabasco sauce'}},\n",
       "   {'item': {'type': 'uri', 'value': 'http://www.wikidata.org/entity/Q360459'},\n",
       "    'itemLabel': {'xml:lang': 'en', 'type': 'literal', 'value': 'Adobo'}},\n",
       "   {'item': {'type': 'uri', 'value': 'http://www.wikidata.org/entity/Q460439'},\n",
       "    'itemLabel': {'xml:lang': 'en',\n",
       "     'type': 'literal',\n",
       "     'value': \"Blair's 16 Million Reserve\"}},\n",
       "   {'item': {'type': 'uri', 'value': 'http://www.wikidata.org/entity/Q966327'},\n",
       "    'itemLabel': {'xml:lang': 'en', 'type': 'literal', 'value': 'harissa'}},\n",
       "   {'item': {'type': 'uri',\n",
       "     'value': 'http://www.wikidata.org/entity/Q1026822'},\n",
       "    'itemLabel': {'xml:lang': 'en', 'type': 'literal', 'value': 'Chili oil'}},\n",
       "   {'item': {'type': 'uri',\n",
       "     'value': 'http://www.wikidata.org/entity/Q1392674'},\n",
       "    'itemLabel': {'xml:lang': 'en',\n",
       "     'type': 'literal',\n",
       "     'value': 'sriracha sauce'}},\n",
       "   {'item': {'type': 'uri',\n",
       "     'value': 'http://www.wikidata.org/entity/Q2227032'},\n",
       "    'itemLabel': {'xml:lang': 'en', 'type': 'literal', 'value': 'mojo'}},\n",
       "   {'item': {'type': 'uri',\n",
       "     'value': 'http://www.wikidata.org/entity/Q2279518'},\n",
       "    'itemLabel': {'xml:lang': 'en', 'type': 'literal', 'value': 'Shito'}},\n",
       "   {'item': {'type': 'uri',\n",
       "     'value': 'http://www.wikidata.org/entity/Q2402909'},\n",
       "    'itemLabel': {'xml:lang': 'en', 'type': 'literal', 'value': 'Valentina'}},\n",
       "   {'item': {'type': 'uri',\n",
       "     'value': 'http://www.wikidata.org/entity/Q3273096'},\n",
       "    'itemLabel': {'xml:lang': 'en',\n",
       "     'type': 'literal',\n",
       "     'value': 'Doubanjiang'}},\n",
       "   {'item': {'type': 'uri',\n",
       "     'value': 'http://www.wikidata.org/entity/Q3474141'},\n",
       "    'itemLabel': {'xml:lang': 'en',\n",
       "     'type': 'literal',\n",
       "     'value': 'sauce samouraï'}},\n",
       "   {'item': {'type': 'uri',\n",
       "     'value': 'http://www.wikidata.org/entity/Q3474250'},\n",
       "    'itemLabel': {'type': 'literal', 'value': 'Q3474250'}},\n",
       "   {'item': {'type': 'uri',\n",
       "     'value': 'http://www.wikidata.org/entity/Q4922876'},\n",
       "    'itemLabel': {'xml:lang': 'en', 'type': 'literal', 'value': 'nam phrik'}},\n",
       "   {'item': {'type': 'uri',\n",
       "     'value': 'http://www.wikidata.org/entity/Q5104402'},\n",
       "    'itemLabel': {'xml:lang': 'en',\n",
       "     'type': 'literal',\n",
       "     'value': 'Cholula Hot Sauce'}},\n",
       "   {'item': {'type': 'uri',\n",
       "     'value': 'http://www.wikidata.org/entity/Q6961170'},\n",
       "    'itemLabel': {'xml:lang': 'en', 'type': 'literal', 'value': 'nam chim'}},\n",
       "   {'item': {'type': 'uri',\n",
       "     'value': 'http://www.wikidata.org/entity/Q7707906'},\n",
       "    'itemLabel': {'xml:lang': 'en', 'type': 'literal', 'value': 'Texas Pete'}},\n",
       "   {'item': {'type': 'uri',\n",
       "     'value': 'http://www.wikidata.org/entity/Q16628511'},\n",
       "    'itemLabel': {'type': 'literal', 'value': 'Q16628511'}},\n",
       "   {'item': {'type': 'uri',\n",
       "     'value': 'http://www.wikidata.org/entity/Q16642516'},\n",
       "    'itemLabel': {'type': 'literal', 'value': 'Q16642516'}}]}}"
      ]
     },
     "execution_count": 12,
     "metadata": {},
     "output_type": "execute_result"
    }
   ],
   "source": [
    "results"
   ]
  },
  {
   "cell_type": "code",
   "execution_count": 16,
   "metadata": {},
   "outputs": [
    {
     "data": {
      "text/html": [
       "<div>\n",
       "<style scoped>\n",
       "    .dataframe tbody tr th:only-of-type {\n",
       "        vertical-align: middle;\n",
       "    }\n",
       "\n",
       "    .dataframe tbody tr th {\n",
       "        vertical-align: top;\n",
       "    }\n",
       "\n",
       "    .dataframe thead th {\n",
       "        text-align: right;\n",
       "    }\n",
       "</style>\n",
       "<table border=\"1\" class=\"dataframe\">\n",
       "  <thead>\n",
       "    <tr style=\"text-align: right;\">\n",
       "      <th></th>\n",
       "      <th>item.value</th>\n",
       "      <th>itemLabel.value</th>\n",
       "    </tr>\n",
       "  </thead>\n",
       "  <tbody>\n",
       "    <tr>\n",
       "      <th>0</th>\n",
       "      <td>http://www.wikidata.org/entity/Q249114</td>\n",
       "      <td>salsa</td>\n",
       "    </tr>\n",
       "    <tr>\n",
       "      <th>1</th>\n",
       "      <td>http://www.wikidata.org/entity/Q335016</td>\n",
       "      <td>Tabasco sauce</td>\n",
       "    </tr>\n",
       "    <tr>\n",
       "      <th>2</th>\n",
       "      <td>http://www.wikidata.org/entity/Q360459</td>\n",
       "      <td>Adobo</td>\n",
       "    </tr>\n",
       "    <tr>\n",
       "      <th>3</th>\n",
       "      <td>http://www.wikidata.org/entity/Q460439</td>\n",
       "      <td>Blair's 16 Million Reserve</td>\n",
       "    </tr>\n",
       "    <tr>\n",
       "      <th>4</th>\n",
       "      <td>http://www.wikidata.org/entity/Q966327</td>\n",
       "      <td>harissa</td>\n",
       "    </tr>\n",
       "    <tr>\n",
       "      <th>5</th>\n",
       "      <td>http://www.wikidata.org/entity/Q1026822</td>\n",
       "      <td>Chili oil</td>\n",
       "    </tr>\n",
       "    <tr>\n",
       "      <th>6</th>\n",
       "      <td>http://www.wikidata.org/entity/Q1392674</td>\n",
       "      <td>sriracha sauce</td>\n",
       "    </tr>\n",
       "    <tr>\n",
       "      <th>7</th>\n",
       "      <td>http://www.wikidata.org/entity/Q2227032</td>\n",
       "      <td>mojo</td>\n",
       "    </tr>\n",
       "    <tr>\n",
       "      <th>8</th>\n",
       "      <td>http://www.wikidata.org/entity/Q2279518</td>\n",
       "      <td>Shito</td>\n",
       "    </tr>\n",
       "    <tr>\n",
       "      <th>9</th>\n",
       "      <td>http://www.wikidata.org/entity/Q2402909</td>\n",
       "      <td>Valentina</td>\n",
       "    </tr>\n",
       "    <tr>\n",
       "      <th>10</th>\n",
       "      <td>http://www.wikidata.org/entity/Q3273096</td>\n",
       "      <td>Doubanjiang</td>\n",
       "    </tr>\n",
       "    <tr>\n",
       "      <th>11</th>\n",
       "      <td>http://www.wikidata.org/entity/Q3474141</td>\n",
       "      <td>sauce samouraï</td>\n",
       "    </tr>\n",
       "    <tr>\n",
       "      <th>12</th>\n",
       "      <td>http://www.wikidata.org/entity/Q3474250</td>\n",
       "      <td>Q3474250</td>\n",
       "    </tr>\n",
       "    <tr>\n",
       "      <th>13</th>\n",
       "      <td>http://www.wikidata.org/entity/Q4922876</td>\n",
       "      <td>nam phrik</td>\n",
       "    </tr>\n",
       "    <tr>\n",
       "      <th>14</th>\n",
       "      <td>http://www.wikidata.org/entity/Q5104402</td>\n",
       "      <td>Cholula Hot Sauce</td>\n",
       "    </tr>\n",
       "    <tr>\n",
       "      <th>15</th>\n",
       "      <td>http://www.wikidata.org/entity/Q6961170</td>\n",
       "      <td>nam chim</td>\n",
       "    </tr>\n",
       "    <tr>\n",
       "      <th>16</th>\n",
       "      <td>http://www.wikidata.org/entity/Q7707906</td>\n",
       "      <td>Texas Pete</td>\n",
       "    </tr>\n",
       "    <tr>\n",
       "      <th>17</th>\n",
       "      <td>http://www.wikidata.org/entity/Q16628511</td>\n",
       "      <td>Q16628511</td>\n",
       "    </tr>\n",
       "    <tr>\n",
       "      <th>18</th>\n",
       "      <td>http://www.wikidata.org/entity/Q16642516</td>\n",
       "      <td>Q16642516</td>\n",
       "    </tr>\n",
       "  </tbody>\n",
       "</table>\n",
       "</div>"
      ],
      "text/plain": [
       "                                  item.value             itemLabel.value\n",
       "0     http://www.wikidata.org/entity/Q249114                       salsa\n",
       "1     http://www.wikidata.org/entity/Q335016               Tabasco sauce\n",
       "2     http://www.wikidata.org/entity/Q360459                       Adobo\n",
       "3     http://www.wikidata.org/entity/Q460439  Blair's 16 Million Reserve\n",
       "4     http://www.wikidata.org/entity/Q966327                     harissa\n",
       "5    http://www.wikidata.org/entity/Q1026822                   Chili oil\n",
       "6    http://www.wikidata.org/entity/Q1392674              sriracha sauce\n",
       "7    http://www.wikidata.org/entity/Q2227032                        mojo\n",
       "8    http://www.wikidata.org/entity/Q2279518                       Shito\n",
       "9    http://www.wikidata.org/entity/Q2402909                   Valentina\n",
       "10   http://www.wikidata.org/entity/Q3273096                 Doubanjiang\n",
       "11   http://www.wikidata.org/entity/Q3474141              sauce samouraï\n",
       "12   http://www.wikidata.org/entity/Q3474250                    Q3474250\n",
       "13   http://www.wikidata.org/entity/Q4922876                   nam phrik\n",
       "14   http://www.wikidata.org/entity/Q5104402           Cholula Hot Sauce\n",
       "15   http://www.wikidata.org/entity/Q6961170                    nam chim\n",
       "16   http://www.wikidata.org/entity/Q7707906                  Texas Pete\n",
       "17  http://www.wikidata.org/entity/Q16628511                   Q16628511\n",
       "18  http://www.wikidata.org/entity/Q16642516                   Q16642516"
      ]
     },
     "execution_count": 16,
     "metadata": {},
     "output_type": "execute_result"
    }
   ],
   "source": [
    "results_df = pd.json_normalize(results['results']['bindings'])\n",
    "results_df[['item.value', 'itemLabel.value']]"
   ]
  },
  {
   "cell_type": "markdown",
   "metadata": {},
   "source": [
    "### A complete query example with Wikidata"
   ]
  },
  {
   "cell_type": "code",
   "execution_count": null,
   "metadata": {},
   "outputs": [],
   "source": []
  }
 ],
 "metadata": {
  "kernelspec": {
   "display_name": "Python 3",
   "language": "python",
   "name": "python3"
  },
  "language_info": {
   "codemirror_mode": {
    "name": "ipython",
    "version": 3
   },
   "file_extension": ".py",
   "mimetype": "text/x-python",
   "name": "python",
   "nbconvert_exporter": "python",
   "pygments_lexer": "ipython3",
   "version": "3.8.5"
  }
 },
 "nbformat": 4,
 "nbformat_minor": 4
}
