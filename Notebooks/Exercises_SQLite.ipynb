{
 "cells": [
  {
   "cell_type": "markdown",
   "source": [
    "## Introduction to Databases\n",
    "\n",
    "### SQLite exercises "
   ],
   "metadata": {}
  },
  {
   "cell_type": "markdown",
   "source": [
    "!pip install tabulate"
   ],
   "metadata": {}
  },
  {
   "cell_type": "code",
   "execution_count": 11,
   "source": [
    "import os\r\n",
    "import sys\r\n",
    "import time\r\n",
    "import datetime\r\n",
    "import numpy as np\r\n",
    "import pandas as pd\r\n",
    "\r\n",
    "from tabulate import tabulate\r\n",
    "\r\n",
    "import sqlite3"
   ],
   "outputs": [],
   "metadata": {}
  },
  {
   "cell_type": "markdown",
   "source": [
    "![Db Schema](../Figs/database-model.gif)"
   ],
   "metadata": {}
  },
  {
   "cell_type": "markdown",
   "source": [
    "### Establishing a connection"
   ],
   "metadata": {}
  },
  {
   "cell_type": "code",
   "execution_count": 2,
   "source": [
    "conn = sqlite3.connect(os.path.join(\"..\",\"SampleDBs\",'hr.sqlite'))\r\n",
    "cur = conn.cursor()"
   ],
   "outputs": [],
   "metadata": {}
  },
  {
   "cell_type": "code",
   "execution_count": 3,
   "source": [
    "cur.execute(\"SELECT name FROM sqlite_master WHERE type='table';\")\r\n",
    "print(cur.fetchall())"
   ],
   "outputs": [
    {
     "output_type": "stream",
     "name": "stdout",
     "text": [
      "[('countries',), ('regions',), ('locations',), ('departments',), ('jobs',), ('employees',), ('department',), ('job_history',), ('prod_mast',), ('prod_backup',), ('orders',), ('tb1',), ('ESERCICIO1',), ('users',), ('tags',), ('s',), ('r',), ('Emor',), ('MIN_SALARY',), ('employee_data',), ('STUDENT',), ('EMPLOYEE_INCOME',), ('details',)]\n"
     ]
    }
   ],
   "metadata": {}
  },
  {
   "cell_type": "code",
   "execution_count": 14,
   "source": [
    "cur.execute(\"SELECT name FROM sqlite_master WHERE type='table';\")\r\n",
    "print(tabulate(cur.fetchall()))"
   ],
   "outputs": [
    {
     "output_type": "stream",
     "name": "stdout",
     "text": [
      "---------------\n",
      "countries\n",
      "regions\n",
      "locations\n",
      "departments\n",
      "jobs\n",
      "employees\n",
      "department\n",
      "job_history\n",
      "prod_mast\n",
      "prod_backup\n",
      "orders\n",
      "tb1\n",
      "ESERCICIO1\n",
      "users\n",
      "tags\n",
      "s\n",
      "r\n",
      "Emor\n",
      "MIN_SALARY\n",
      "employee_data\n",
      "STUDENT\n",
      "EMPLOYEE_INCOME\n",
      "details\n",
      "---------------\n"
     ]
    }
   ],
   "metadata": {}
  },
  {
   "cell_type": "code",
   "execution_count": 13,
   "source": [
    "cur.execute(\"SELECT name FROM sqlite_master WHERE type='table';\")\r\n",
    "for res in cur.fetchall():\r\n",
    "    print(res)"
   ],
   "outputs": [
    {
     "output_type": "stream",
     "name": "stdout",
     "text": [
      "('countries',)\n",
      "('regions',)\n",
      "('locations',)\n",
      "('departments',)\n",
      "('jobs',)\n",
      "('employees',)\n",
      "('department',)\n",
      "('job_history',)\n",
      "('prod_mast',)\n",
      "('prod_backup',)\n",
      "('orders',)\n",
      "('tb1',)\n",
      "('ESERCICIO1',)\n",
      "('users',)\n",
      "('tags',)\n",
      "('s',)\n",
      "('r',)\n",
      "('Emor',)\n",
      "('MIN_SALARY',)\n",
      "('employee_data',)\n",
      "('STUDENT',)\n",
      "('EMPLOYEE_INCOME',)\n",
      "('details',)\n"
     ]
    }
   ],
   "metadata": {}
  },
  {
   "cell_type": "code",
   "execution_count": 5,
   "source": [
    "df = pd.read_sql(\"SELECT name FROM sqlite_master WHERE type='table';\", conn)\r\n",
    "df.head(10)"
   ],
   "outputs": [
    {
     "output_type": "execute_result",
     "data": {
      "text/html": [
       "<div>\n",
       "<style scoped>\n",
       "    .dataframe tbody tr th:only-of-type {\n",
       "        vertical-align: middle;\n",
       "    }\n",
       "\n",
       "    .dataframe tbody tr th {\n",
       "        vertical-align: top;\n",
       "    }\n",
       "\n",
       "    .dataframe thead th {\n",
       "        text-align: right;\n",
       "    }\n",
       "</style>\n",
       "<table border=\"1\" class=\"dataframe\">\n",
       "  <thead>\n",
       "    <tr style=\"text-align: right;\">\n",
       "      <th></th>\n",
       "      <th>name</th>\n",
       "    </tr>\n",
       "  </thead>\n",
       "  <tbody>\n",
       "    <tr>\n",
       "      <th>0</th>\n",
       "      <td>countries</td>\n",
       "    </tr>\n",
       "    <tr>\n",
       "      <th>1</th>\n",
       "      <td>regions</td>\n",
       "    </tr>\n",
       "    <tr>\n",
       "      <th>2</th>\n",
       "      <td>locations</td>\n",
       "    </tr>\n",
       "    <tr>\n",
       "      <th>3</th>\n",
       "      <td>departments</td>\n",
       "    </tr>\n",
       "    <tr>\n",
       "      <th>4</th>\n",
       "      <td>jobs</td>\n",
       "    </tr>\n",
       "    <tr>\n",
       "      <th>5</th>\n",
       "      <td>employees</td>\n",
       "    </tr>\n",
       "    <tr>\n",
       "      <th>6</th>\n",
       "      <td>department</td>\n",
       "    </tr>\n",
       "    <tr>\n",
       "      <th>7</th>\n",
       "      <td>job_history</td>\n",
       "    </tr>\n",
       "    <tr>\n",
       "      <th>8</th>\n",
       "      <td>prod_mast</td>\n",
       "    </tr>\n",
       "    <tr>\n",
       "      <th>9</th>\n",
       "      <td>prod_backup</td>\n",
       "    </tr>\n",
       "  </tbody>\n",
       "</table>\n",
       "</div>"
      ],
      "text/plain": [
       "          name\n",
       "0    countries\n",
       "1      regions\n",
       "2    locations\n",
       "3  departments\n",
       "4         jobs\n",
       "5    employees\n",
       "6   department\n",
       "7  job_history\n",
       "8    prod_mast\n",
       "9  prod_backup"
      ]
     },
     "metadata": {},
     "execution_count": 5
    }
   ],
   "metadata": {}
  },
  {
   "cell_type": "markdown",
   "source": [
    "### SQL Questions"
   ],
   "metadata": {}
  },
  {
   "cell_type": "markdown",
   "source": [
    "+ Write a query to display the names (first_name, last_name) using alias name \"First Name\", \"Last Name\" on the table \"employees\"  "
   ],
   "metadata": {}
  },
  {
   "cell_type": "code",
   "execution_count": null,
   "source": [
    "SELECT first_name \"First Name\",  last_name \"Last Name\" \r\n",
    "\tFROM employees;"
   ],
   "outputs": [],
   "metadata": {}
  },
  {
   "cell_type": "markdown",
   "source": [
    "+ Write a query to get unique department ID on the table \"employees\"  "
   ],
   "metadata": {}
  },
  {
   "cell_type": "code",
   "execution_count": null,
   "source": [
    "SELECT DISTINCT e.department_id\r\n",
    "FROM employees AS e;"
   ],
   "outputs": [],
   "metadata": {}
  },
  {
   "cell_type": "markdown",
   "source": [
    "+ Write a query to get all employee details from the employee table order by first name, descending on the table \"employees\"  "
   ],
   "metadata": {}
  },
  {
   "cell_type": "code",
   "execution_count": null,
   "source": [
    "SELECT e.*\r\n",
    "FROM employees AS e\r\n",
    "ORDER BY e.first_name DESC;"
   ],
   "outputs": [],
   "metadata": {}
  },
  {
   "cell_type": "markdown",
   "source": [
    "+ Write a query to get the names (first_name, last_name), salary, PF of all the employees (PF is calculated as 12% of salary) on the table \"employees\"  "
   ],
   "metadata": {}
  },
  {
   "cell_type": "code",
   "execution_count": null,
   "source": [
    "SELECT e.first_name AS \"First Name\",\r\n",
    "       e.last_name AS \"Last Name\",\r\n",
    "       e.salary AS \"Salary\",\r\n",
    "       e.salary * 0.12 AS \"PF\"\r\n",
    "FROM employees AS e;"
   ],
   "outputs": [],
   "metadata": {}
  },
  {
   "cell_type": "markdown",
   "source": [
    "+ Write a query to get the employee ID, names (first_name, last_name), salary in ascending order of salary on the table \"employees\"  "
   ],
   "metadata": {}
  },
  {
   "cell_type": "code",
   "execution_count": null,
   "source": [
    "SELECT e.employee_id AS \"Employee ID\",\r\n",
    "       e.first_name AS \"First Name\",\r\n",
    "       e.last_name AS \"Last Name\",\r\n",
    "       e.salary AS \"Salary\"\r\n",
    "FROM employees AS e\r\n",
    "ORDER BY e.salary;"
   ],
   "outputs": [],
   "metadata": {}
  },
  {
   "cell_type": "markdown",
   "source": [
    "+ Write a query to get the total salaries payable to employees on the table \"employees\"  "
   ],
   "metadata": {}
  },
  {
   "cell_type": "code",
   "execution_count": null,
   "source": [
    "SELECT SUM(e.salary) AS total_salaries\r\n",
    "FROM employees AS e;"
   ],
   "outputs": [],
   "metadata": {}
  },
  {
   "cell_type": "markdown",
   "source": [
    "+ Write a query to get the maximum and minimum salary from employees table on the table \"employees\"  "
   ],
   "metadata": {}
  },
  {
   "cell_type": "code",
   "execution_count": null,
   "source": [
    "SELECT MIN(e.salary) AS minimum,\r\n",
    "       MAX(e.salary) AS maximum\r\n",
    "FROM employees AS e;"
   ],
   "outputs": [],
   "metadata": {}
  },
  {
   "cell_type": "markdown",
   "source": [
    "+ Write a query to get the average salary and number of employees in the employees table on the table \"employees\"  "
   ],
   "metadata": {}
  },
  {
   "cell_type": "code",
   "execution_count": null,
   "source": [
    "SELECT AVG(e.salary) AS average,\r\n",
    "       COUNT(e.employee_id) AS COUNT\r\n",
    "FROM employees AS e;"
   ],
   "outputs": [],
   "metadata": {}
  },
  {
   "cell_type": "markdown",
   "source": [
    "+ Write a query to get the number of employees working with the company on the table \"employees\"  "
   ],
   "metadata": {}
  },
  {
   "cell_type": "code",
   "execution_count": null,
   "source": [
    "SELECT COUNT(e.employee_id) AS COUNT\r\n",
    "FROM employees AS e;"
   ],
   "outputs": [],
   "metadata": {}
  },
  {
   "cell_type": "markdown",
   "source": [
    "+ Write a query to get the number of jobs available in the employees table on the table \"employees\"  "
   ],
   "metadata": {}
  },
  {
   "cell_type": "code",
   "execution_count": null,
   "source": [
    "SELECT COUNT(DISTINCT e.job_id) \r\n",
    "FROM employees AS e;"
   ],
   "outputs": [],
   "metadata": {}
  },
  {
   "cell_type": "markdown",
   "source": [
    "+ Write a query get all first name from employees table in upper case on the table \"employees\"  "
   ],
   "metadata": {}
  },
  {
   "cell_type": "code",
   "execution_count": null,
   "source": [
    "SELECT UPPER(e.first_name) AS first_name\r\n",
    "FROM employees AS e;"
   ],
   "outputs": [],
   "metadata": {}
  },
  {
   "cell_type": "markdown",
   "source": [
    "+ Write a query to get the first 3 characters of first name from employees table on the table \"employees\"  "
   ],
   "metadata": {}
  },
  {
   "cell_type": "code",
   "execution_count": null,
   "source": [
    "SELECT LEFT(e.first_name, 3)\r\n",
    "FROM employees AS e;"
   ],
   "outputs": [],
   "metadata": {}
  },
  {
   "cell_type": "markdown",
   "source": [
    "+ Write a query to calculate 171*214+625."
   ],
   "metadata": {}
  },
  {
   "cell_type": "code",
   "execution_count": null,
   "source": [
    "SELECT 171 * 214 + 625\r\n",
    "FROM employees;"
   ],
   "outputs": [],
   "metadata": {}
  },
  {
   "cell_type": "markdown",
   "source": [
    "+ Write a query to get the names (for example Ellen Abel, Sundar Ande etc.) of all the employees from employees table"
   ],
   "metadata": {}
  },
  {
   "cell_type": "code",
   "execution_count": null,
   "source": [
    "SELECT CONCAT(e.first_name, ' ', e.last_name) AS full_name\r\n",
    "FROM employees AS e;"
   ],
   "outputs": [],
   "metadata": {}
  },
  {
   "cell_type": "markdown",
   "source": [
    "+ Write a query to get first name from employees table after removing white spaces from both side on the table \"employees\"  "
   ],
   "metadata": {}
  },
  {
   "cell_type": "code",
   "execution_count": null,
   "source": [
    "SELECT TRIM(first_name) \r\n",
    "    FROM employees;"
   ],
   "outputs": [],
   "metadata": {}
  },
  {
   "cell_type": "markdown",
   "source": [
    "+ Write a query to get the length of the employee names (first_name, last_name) from employees table on the table \"employees\"  "
   ],
   "metadata": {}
  },
  {
   "cell_type": "code",
   "execution_count": null,
   "source": [
    "SELECT first_name,last_name, LENGTH(first_name)+LENGTH(last_name)  'Length of  Names' \r\n",
    "    FROM employees;"
   ],
   "outputs": [],
   "metadata": {}
  },
  {
   "cell_type": "markdown",
   "source": [
    "+ Write a query to select first 10 records from a table on the table \"employees\"  \r\n",
    "Note : Assume the salary field provides the 'annual salary' information."
   ],
   "metadata": {}
  },
  {
   "cell_type": "code",
   "execution_count": null,
   "source": [
    "SELECT e.*\r\n",
    "FROM employees AS e\r\n",
    "LIMIT 10;"
   ],
   "outputs": [],
   "metadata": {}
  },
  {
   "cell_type": "markdown",
   "source": [
    "+ Write a query to get monthly salary (round 2 decimal places) of each and every employee? - on the table \"employees\"  "
   ],
   "metadata": {}
  },
  {
   "cell_type": "code",
   "execution_count": null,
   "source": [
    "SELECT e.first_name,\r\n",
    "       e.last_name,\r\n",
    "       ROUND(e.salary / 12, 2) AS monthly_salary\r\n",
    "FROM employees AS e;"
   ],
   "outputs": [],
   "metadata": {}
  },
  {
   "cell_type": "markdown",
   "source": [
    "+ Write a query to display the names (first_name, last_name) and salary for all employees whose salary is not in the range $10,000 through $15,000 on the table \"employees\"  "
   ],
   "metadata": {}
  },
  {
   "cell_type": "code",
   "execution_count": null,
   "source": [
    "SELECT first_name, last_name, salary\r\n",
    "FROM employees\r\n",
    "WHERE salary NOT BETWEEN 10000 AND 15000;"
   ],
   "outputs": [],
   "metadata": {}
  },
  {
   "cell_type": "markdown",
   "source": [
    "+ Write a query to display the names (first_name, last_name) and department ID of all employees in departments 30 or 100 in ascending alphabetical order by department ID on the table \"employees\"  "
   ],
   "metadata": {}
  },
  {
   "cell_type": "code",
   "execution_count": null,
   "source": [
    "SELECT first_name, last_name, department_id\r\n",
    "FROM employees\r\n",
    "WHERE department_id IN (30, 100)\r\n",
    "ORDER BY  department_id  ASC;"
   ],
   "outputs": [],
   "metadata": {}
  },
  {
   "cell_type": "markdown",
   "source": [
    "+ Write a query to display the names (first_name, last_name) and salary for all employees whose salary is not in the range $10,000 through $15,000 and are in department 30 or 100 on the table \"employees\"  "
   ],
   "metadata": {}
  },
  {
   "cell_type": "code",
   "execution_count": null,
   "source": [
    "SELECT first_name, last_name, salary\r\n",
    "FROM employees\r\n",
    "WHERE salary NOT BETWEEN 10000 AND 15000;"
   ],
   "outputs": [],
   "metadata": {}
  },
  {
   "cell_type": "markdown",
   "source": [
    "+ Write a query to display the first_name of all employees who have both an \"b\" and \"c\" in their first name. on the table \"employees\"  "
   ],
   "metadata": {}
  },
  {
   "cell_type": "code",
   "execution_count": null,
   "source": [
    "SELECT first_name\r\n",
    "FROM employees\r\n",
    "WHERE first_name LIKE '%b%'\r\n",
    "AND first_name LIKE '%c%';"
   ],
   "outputs": [],
   "metadata": {}
  },
  {
   "cell_type": "markdown",
   "source": [
    "+ Write a query to display the last name, job, and salary for all employees whose job is that of a Programmer or a Shipping Clerk, and whose salary is not equal to $4,500, $10,000, or $15,000 on the table \"employees\"  "
   ],
   "metadata": {}
  },
  {
   "cell_type": "code",
   "execution_count": null,
   "source": [
    "SELECT last_name, job_id, salary\r\n",
    "FROM employees\r\n",
    "WHERE job_id IN ('IT_PROG', 'SH_CLERK')\r\n",
    "AND salary NOT IN (4500,10000, 15000);"
   ],
   "outputs": [],
   "metadata": {}
  },
  {
   "cell_type": "markdown",
   "source": [
    "+ Write a query to display the last names of employees whose names have exactly 6 characters on the table \"employees\"  "
   ],
   "metadata": {}
  },
  {
   "cell_type": "code",
   "execution_count": null,
   "source": [
    "SELECT last_name FROM employees WHERE last_name LIKE '______';"
   ],
   "outputs": [],
   "metadata": {}
  },
  {
   "cell_type": "markdown",
   "source": [
    "+ Write a query to display the last names of employees having 'e' as the third character on the table \"employees\"  "
   ],
   "metadata": {}
  },
  {
   "cell_type": "code",
   "execution_count": null,
   "source": [
    "SELECT last_name FROM employees WHERE last_name LIKE '__e%';"
   ],
   "outputs": [],
   "metadata": {}
  },
  {
   "cell_type": "markdown",
   "source": [
    "+ Write a query to display the jobs/designations available in the employees table on the table \"employees\"  "
   ],
   "metadata": {}
  },
  {
   "cell_type": "code",
   "execution_count": null,
   "source": [
    "SELECT DISTINCT job_id  FROM employees;"
   ],
   "outputs": [],
   "metadata": {}
  },
  {
   "cell_type": "markdown",
   "source": [
    "+ Write a query to display the names (first_name, last_name), salary and PF (15% of salary) of all employees on the table \"employees\"  "
   ],
   "metadata": {}
  },
  {
   "cell_type": "code",
   "execution_count": null,
   "source": [
    "SELECT first_name, last_name, salary, salary*.15 PF from employees;"
   ],
   "outputs": [],
   "metadata": {}
  },
  {
   "cell_type": "markdown",
   "source": [
    "+ Write a query to list the number of jobs available in the employees table."
   ],
   "metadata": {}
  },
  {
   "cell_type": "code",
   "execution_count": null,
   "source": [
    "SELECT COUNT(DISTINCT job_id) \r\n",
    "FROM employees;"
   ],
   "outputs": [],
   "metadata": {}
  },
  {
   "cell_type": "markdown",
   "source": [
    "+ Write a query to get the total salaries payable to employees."
   ],
   "metadata": {}
  },
  {
   "cell_type": "code",
   "execution_count": null,
   "source": [
    "SELECT SUM(salary) \r\n",
    "     FROM employees;"
   ],
   "outputs": [],
   "metadata": {}
  },
  {
   "cell_type": "markdown",
   "source": [
    "+ Write a query to get the minimum salary from employees table."
   ],
   "metadata": {}
  },
  {
   "cell_type": "code",
   "execution_count": null,
   "source": [
    "SELECT MIN(salary) \r\n",
    "     FROM employees;"
   ],
   "outputs": [],
   "metadata": {}
  },
  {
   "cell_type": "markdown",
   "source": [
    "+ Write a query to get the maximum salary of an employee working as a Programmer."
   ],
   "metadata": {}
  },
  {
   "cell_type": "markdown",
   "source": [
    "SELECT MAX(salary) \r\n",
    "FROM employees \r\n",
    "WHERE job_id = 'IT_PROG';"
   ],
   "metadata": {}
  },
  {
   "cell_type": "markdown",
   "source": [
    "+ Write a query to get the average salary and number of employees working the department 90."
   ],
   "metadata": {}
  },
  {
   "cell_type": "code",
   "execution_count": null,
   "source": [
    "SELECT AVG(salary),count(*) \r\n",
    "FROM employees \r\n",
    "WHERE department_id = 90;"
   ],
   "outputs": [],
   "metadata": {}
  },
  {
   "cell_type": "markdown",
   "source": [
    "+ Write a query to get the highest, lowest, sum, and average salary of all employees."
   ],
   "metadata": {}
  },
  {
   "cell_type": "code",
   "execution_count": null,
   "source": [
    "SELECT ROUND(MAX(salary),0) 'Maximum',\r\n",
    "ROUND(MIN(salary),0) 'Minimum',\r\n",
    "ROUND(SUM(salary),0) 'Sum',\r\n",
    "ROUND(AVG(salary),0) 'Average'\r\n",
    "FROM employees;"
   ],
   "outputs": [],
   "metadata": {}
  },
  {
   "cell_type": "markdown",
   "source": [
    "+ Write a query to get the number of employees with the same job."
   ],
   "metadata": {}
  },
  {
   "cell_type": "code",
   "execution_count": null,
   "source": [
    "SELECT job_id, COUNT(*)\r\n",
    "FROM employees\r\n",
    "GROUP BY job_id;"
   ],
   "outputs": [],
   "metadata": {}
  },
  {
   "cell_type": "markdown",
   "source": [
    "+ Write a query to get the difference between the highest and lowest salaries."
   ],
   "metadata": {}
  },
  {
   "cell_type": "code",
   "execution_count": null,
   "source": [
    "SELECT MAX(salary) - MIN(salary) DIFFERENCE\r\n",
    "FROM employees;"
   ],
   "outputs": [],
   "metadata": {}
  },
  {
   "cell_type": "markdown",
   "source": [
    "+ Write a query to find the manager ID and the salary of the lowest-paid employee for that manager."
   ],
   "metadata": {}
  },
  {
   "cell_type": "code",
   "execution_count": null,
   "source": [
    "SELECT manager_id, MIN(salary)\r\n",
    "FROM employees\r\n",
    "WHERE manager_id IS NOT NULL\r\n",
    "GROUP BY manager_id\r\n",
    "ORDER BY MIN(salary) DESC;"
   ],
   "outputs": [],
   "metadata": {}
  },
  {
   "cell_type": "markdown",
   "source": [
    "+ Write a query to get the department ID and the total salary payable in each department."
   ],
   "metadata": {}
  },
  {
   "cell_type": "code",
   "execution_count": null,
   "source": [
    "SELECT department_id, SUM(salary)\r\n",
    "FROM employees \r\n",
    "GROUP BY department_id;"
   ],
   "outputs": [],
   "metadata": {}
  },
  {
   "cell_type": "markdown",
   "source": [
    "+ Write a query to get the average salary for each job ID excluding programmer."
   ],
   "metadata": {}
  },
  {
   "cell_type": "code",
   "execution_count": null,
   "source": [
    "SELECT job_id, AVG(salary) \r\n",
    "FROM employees \r\n",
    "WHERE job_id <> 'IT_PROG' \r\n",
    "GROUP BY job_id;"
   ],
   "outputs": [],
   "metadata": {}
  },
  {
   "cell_type": "markdown",
   "source": [
    "+ Write a query to get the total salary, maximum, minimum, average salary of employees (job ID wise), for department ID 90 only."
   ],
   "metadata": {}
  },
  {
   "cell_type": "code",
   "execution_count": null,
   "source": [
    "SELECT job_id, SUM(salary), AVG(salary), MAX(salary), MIN(salary)\r\n",
    "FROM employees \r\n",
    "WHERE department_id = '90' \r\n",
    "GROUP BY job_id;"
   ],
   "outputs": [],
   "metadata": {}
  },
  {
   "cell_type": "markdown",
   "source": [
    "+ Write a query to get the job ID and maximum salary of the employees where maximum salary is greater than or equal to $4000. "
   ],
   "metadata": {}
  },
  {
   "cell_type": "code",
   "execution_count": null,
   "source": [
    "SELECT job_id, MAX(salary) \r\n",
    "FROM employees \r\n",
    "GROUP BY job_id \r\n",
    "HAVING MAX(salary) >=4000;\r\n"
   ],
   "outputs": [],
   "metadata": {}
  },
  {
   "cell_type": "markdown",
   "source": [
    "+ Write a query to get the average salary for all departments employing more than 10 employees."
   ],
   "metadata": {}
  },
  {
   "cell_type": "code",
   "execution_count": null,
   "source": [
    "SELECT department_id, AVG(salary), COUNT(*) \r\n",
    "FROM employees \r\n",
    "GROUP BY department_id\r\n",
    "HAVING COUNT(*) > 10;"
   ],
   "outputs": [],
   "metadata": {}
  },
  {
   "cell_type": "markdown",
   "source": [
    "+ Write a query to find the names (first_name, last_name) and salaries of the employees who have a higher salary than the employee whose last_name='Bull'."
   ],
   "metadata": {}
  },
  {
   "cell_type": "code",
   "execution_count": null,
   "source": [
    "SELECT FIRST_NAME, LAST_NAME, SALARY \r\n",
    "FROM employees \r\n",
    "WHERE SALARY > \r\n",
    "(SELECT salary FROM employees WHERE last_name = 'Bull');"
   ],
   "outputs": [],
   "metadata": {}
  },
  {
   "cell_type": "markdown",
   "source": [
    "+ Write a query to find the names (first_name, last_name) of all employees who works in the IT department."
   ],
   "metadata": {}
  },
  {
   "cell_type": "code",
   "execution_count": null,
   "source": [
    "SELECT first_name, last_name \r\n",
    "FROM employees \r\n",
    "WHERE department_id \r\n",
    "IN (SELECT department_id FROM departments WHERE department_name='IT');"
   ],
   "outputs": [],
   "metadata": {}
  },
  {
   "cell_type": "markdown",
   "source": [
    "+ Write a query to find the names (first_name, last_name) of the employees who have a manager who works for a department based in the United States. Hint : Write single-row and multiple-row subqueries"
   ],
   "metadata": {}
  },
  {
   "cell_type": "code",
   "execution_count": null,
   "source": [
    "SELECT first_name, last_name FROM employees \r\n",
    "WHERE manager_id in (select employee_id \r\n",
    "FROM employees WHERE department_id \r\n",
    "IN (SELECT department_id FROM departments WHERE location_id \r\n",
    "IN (select location_id from locations where country_id='US')));"
   ],
   "outputs": [],
   "metadata": {}
  },
  {
   "cell_type": "markdown",
   "source": [
    "+ Write a query to find the names (first_name, last_name) of the employees who are managers. "
   ],
   "metadata": {}
  },
  {
   "cell_type": "code",
   "execution_count": null,
   "source": [
    "SELECT first_name, last_name \r\n",
    "FROM employees \r\n",
    "WHERE (employee_id IN (SELECT manager_id FROM employees));"
   ],
   "outputs": [],
   "metadata": {}
  },
  {
   "cell_type": "markdown",
   "source": [
    "+ Write a query to find the names (first_name, last_name), the salary of the employees whose salary is greater than the average salary."
   ],
   "metadata": {}
  },
  {
   "cell_type": "code",
   "execution_count": null,
   "source": [
    "SELECT first_name, last_name, salary FROM employees \r\n",
    "WHERE salary > (SELECT AVG(salary) FROM employees);"
   ],
   "outputs": [],
   "metadata": {}
  },
  {
   "cell_type": "markdown",
   "source": [
    "+ Write a query to find the names (first_name, last_name), the salary of the employees whose salary is equal to the minimum salary for their job grade."
   ],
   "metadata": {}
  },
  {
   "cell_type": "code",
   "execution_count": null,
   "source": [
    "SELECT first_name, last_name, salary \r\n",
    "FROM employees \r\n",
    "WHERE employees.salary = (SELECT min_salary\r\n",
    "FROM jobs\r\n",
    "WHERE employees.job_id = jobs.job_id);"
   ],
   "outputs": [],
   "metadata": {}
  },
  {
   "cell_type": "markdown",
   "source": [
    "+ Write a query to find the names (first_name, last_name), the salary of the employees who earn more than the average salary and who works in any of the IT departments."
   ],
   "metadata": {}
  },
  {
   "cell_type": "code",
   "execution_count": null,
   "source": [
    "SELECT first_name, last_name, salary \r\n",
    "FROM employees \r\n",
    "WHERE department_id IN \r\n",
    "(SELECT department_id FROM departments WHERE department_name LIKE 'IT%') \r\n",
    "AND salary > (SELECT avg(salary) FROM employees);"
   ],
   "outputs": [],
   "metadata": {}
  },
  {
   "cell_type": "markdown",
   "source": [
    "+ Write a query to find the names (first_name, last_name), the salary of the employees who earn more than Mr. Bell. "
   ],
   "metadata": {}
  },
  {
   "cell_type": "code",
   "execution_count": null,
   "source": [
    "SELECT first_name, last_name, salary \r\n",
    "FROM employees \r\n",
    "WHERE salary > \r\n",
    "(SELECT salary FROM employees WHERE last_name = 'Bell') ORDER BY first_name;"
   ],
   "outputs": [],
   "metadata": {}
  },
  {
   "cell_type": "markdown",
   "source": [
    "+ Write a query to find the names (first_name, last_name), the salary of the employees who earn the same salary as the minimum salary for all departments. "
   ],
   "metadata": {}
  },
  {
   "cell_type": "code",
   "execution_count": null,
   "source": [
    "SELECT * FROM employees \r\n",
    "WHERE salary = (SELECT MIN(salary) FROM employees);"
   ],
   "outputs": [],
   "metadata": {}
  },
  {
   "cell_type": "markdown",
   "source": [
    "+ Write a query to find the names (first_name, last_name) of the employees who are not supervisors. "
   ],
   "metadata": {}
  },
  {
   "cell_type": "code",
   "execution_count": null,
   "source": [
    "SELECT b.first_name,b.last_name \r\n",
    "FROM employees b \r\n",
    "WHERE NOT EXISTS (SELECT 'X' FROM employees a WHERE a.manager_id = b.employee_id);"
   ],
   "outputs": [],
   "metadata": {}
  },
  {
   "cell_type": "markdown",
   "source": [
    "+ Write a query to display the employee ID, first name, last names, salary of all employees whose salary is above average for their departments."
   ],
   "metadata": {}
  },
  {
   "cell_type": "code",
   "execution_count": null,
   "source": [
    "SELECT employee_id, first_name \r\n",
    "FROM employees AS A \r\n",
    "WHERE salary > \r\n",
    "(SELECT AVG(salary) FROM employees WHERE department_id = A.department_id);"
   ],
   "outputs": [],
   "metadata": {}
  },
  {
   "cell_type": "markdown",
   "source": [
    "+ Write a query to find the 5th maximum salary in the employees table."
   ],
   "metadata": {}
  },
  {
   "cell_type": "code",
   "execution_count": null,
   "source": [
    "SELECT employee_id, first_name \r\n",
    "FROM employees AS A \r\n",
    "WHERE salary > \r\n",
    "(SELECT AVG(salary) FROM employees WHERE department_id = A.department_id);"
   ],
   "outputs": [],
   "metadata": {}
  },
  {
   "cell_type": "markdown",
   "source": [
    "+ Write a query to find the 4th minimum salary in the employees table."
   ],
   "metadata": {}
  },
  {
   "cell_type": "code",
   "execution_count": null,
   "source": [
    "SELECT DISTINCT salary \r\n",
    "FROM employees e1 \r\n",
    "WHERE 4 = (SELECT COUNT(DISTINCT salary) \r\n",
    "FROM employees  e2 \r\n",
    "WHERE e2.salary <= e1.salary);"
   ],
   "outputs": [],
   "metadata": {}
  },
  {
   "cell_type": "markdown",
   "source": [
    "+ Write a query to select last 10 records from a table."
   ],
   "metadata": {}
  },
  {
   "cell_type": "markdown",
   "source": [
    "SELECT * FROM (\r\n",
    "SELECT * FROM employees ORDER BY employee_id DESC LIMIT 10) sub \r\n",
    "ORDER BY employee_id ASC;"
   ],
   "metadata": {}
  },
  {
   "cell_type": "markdown",
   "source": [
    "+ Write a query to list department number, name for all the departments in which there are no employees in the department."
   ],
   "metadata": {}
  },
  {
   "cell_type": "code",
   "execution_count": null,
   "source": [
    "SELECT * FROM departments \r\n",
    "WHERE department_id \r\n",
    "NOT IN (select department_id FROM employees);"
   ],
   "outputs": [],
   "metadata": {}
  },
  {
   "cell_type": "markdown",
   "source": [
    "+ Write a query to find the addresses (location_id, street_address, city, state_province, country_name) of all the departments."
   ],
   "metadata": {}
  },
  {
   "cell_type": "code",
   "execution_count": null,
   "source": [
    "SELECT location_id, street_address, city, state_province, country_name\r\n",
    "FROM locations\r\n",
    "NATURAL JOIN countries;"
   ],
   "outputs": [],
   "metadata": {}
  },
  {
   "cell_type": "markdown",
   "source": [
    "+ Write a query to find the names (first_name, last name), department ID and the name of all the employees."
   ],
   "metadata": {}
  },
  {
   "cell_type": "code",
   "execution_count": null,
   "source": [
    "SELECT first_name, last_name, department_id, department_name \r\n",
    "FROM employees \r\n",
    "JOIN departments USING (department_id);"
   ],
   "outputs": [],
   "metadata": {}
  },
  {
   "cell_type": "markdown",
   "source": [
    "+ Write a query to find the employee id, name (last_name) along with their manager_id, manager name (last_name)."
   ],
   "metadata": {}
  },
  {
   "cell_type": "code",
   "execution_count": null,
   "source": [
    "SELECT e.employee_id 'Emp_Id', e.last_name 'Employee', \r\n",
    "m.employee_id 'Mgr_Id', m.last_name 'Manager' \r\n",
    "FROM employees e \r\n",
    "join employees m \r\n",
    "ON (e.manager_id = m.employee_id);"
   ],
   "outputs": [],
   "metadata": {}
  },
  {
   "cell_type": "markdown",
   "source": [
    "+ Write a query to find the names (first_name, last_name) and hire date of the employees who were hired after 'Jones'."
   ],
   "metadata": {}
  },
  {
   "cell_type": "code",
   "execution_count": null,
   "source": [
    "SELECT e.first_name, e.last_name, e.hire_date \r\n",
    "FROM employees e \r\n",
    "JOIN employees davies \r\n",
    "ON (davies.last_name = 'Jones') \r\n",
    "WHERE davies.hire_date < e.hire_date;"
   ],
   "outputs": [],
   "metadata": {}
  },
  {
   "cell_type": "markdown",
   "source": [
    "+ Write a query to get the department name and number of employees in the department."
   ],
   "metadata": {}
  },
  {
   "cell_type": "code",
   "execution_count": null,
   "source": [
    "SELECT department_name AS 'Department Name', \r\n",
    "COUNT(*) AS 'No of Employees' \r\n",
    "FROM departments \r\n",
    "INNER JOIN employees \r\n",
    "ON employees.department_id = departments.department_id \r\n",
    "GROUP BY departments.department_id, department_name \r\n",
    "ORDER BY department_name;"
   ],
   "outputs": [],
   "metadata": {}
  },
  {
   "cell_type": "markdown",
   "source": [
    "+ Write a query to find the employee ID, job title number of days between ending date and starting date for all jobs in department 90 from job history."
   ],
   "metadata": {}
  },
  {
   "cell_type": "code",
   "execution_count": null,
   "source": [
    "SELECT employee_id, job_title, end_date-start_date Days FROM job_history \r\n",
    "NATURAL JOIN jobs \r\n",
    "WHERE department_id=90;"
   ],
   "outputs": [],
   "metadata": {}
  },
  {
   "cell_type": "markdown",
   "source": [
    "+ Write a query to display the department ID, department name, and manager first name."
   ],
   "metadata": {}
  },
  {
   "cell_type": "code",
   "execution_count": null,
   "source": [
    "SELECT d.department_id, d.department_name, d.manager_id, e.first_name \r\n",
    "FROM departments d \r\n",
    "INNER JOIN employees e \r\n",
    "ON (d.manager_id = e.employee_id);"
   ],
   "outputs": [],
   "metadata": {}
  },
  {
   "cell_type": "markdown",
   "source": [
    "+ Write a query to display the department name, manager name, and city. "
   ],
   "metadata": {}
  },
  {
   "cell_type": "code",
   "execution_count": null,
   "source": [
    "SELECT d.department_name, e.first_name, l.city \r\n",
    "FROM departments d \r\n",
    "JOIN employees e \r\n",
    "ON (d.manager_id = e.employee_id) \r\n",
    "JOIN locations l USING (location_id);"
   ],
   "outputs": [],
   "metadata": {}
  },
  {
   "cell_type": "markdown",
   "source": [
    "+ Write a query to display the job title and average salary of employees. "
   ],
   "metadata": {}
  },
  {
   "cell_type": "code",
   "execution_count": null,
   "source": [
    "SELECT job_title, AVG(salary) \r\n",
    "FROM employees \r\n",
    "NATURAL JOIN jobs \r\n",
    "GROUP BY job_title;"
   ],
   "outputs": [],
   "metadata": {}
  },
  {
   "cell_type": "markdown",
   "source": [
    "+ Write a query to to display job title, employee name, and the difference between the salary of the employee and minimum salary for the job."
   ],
   "metadata": {}
  },
  {
   "cell_type": "code",
   "execution_count": null,
   "source": [
    "SELECT job_title, first_name, salary-min_salary 'Salary - Min_Salary' \r\n",
    "FROM employees \r\n",
    "NATURAL JOIN jobs;"
   ],
   "outputs": [],
   "metadata": {}
  },
  {
   "cell_type": "markdown",
   "source": [
    "+ Write a query to display the job history that was done by any employee who is currently drawing more than 10000 of salary."
   ],
   "metadata": {}
  },
  {
   "cell_type": "code",
   "execution_count": null,
   "source": [
    "SELECT jh.* FROM job_history jh \r\n",
    "JOIN employees e \r\n",
    "ON (jh.employee_id = e.employee_id) \r\n",
    "WHERE salary > 10000;"
   ],
   "outputs": [],
   "metadata": {}
  }
 ],
 "metadata": {
  "kernelspec": {
   "display_name": "Python 3 (ipykernel)",
   "language": "python",
   "name": "python3"
  },
  "language_info": {
   "codemirror_mode": {
    "name": "ipython",
    "version": 3
   },
   "file_extension": ".py",
   "mimetype": "text/x-python",
   "name": "python",
   "nbconvert_exporter": "python",
   "pygments_lexer": "ipython3",
   "version": "3.9.5"
  }
 },
 "nbformat": 4,
 "nbformat_minor": 4
}